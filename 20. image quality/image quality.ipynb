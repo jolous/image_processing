{
 "cells": [
  {
   "cell_type": "code",
   "execution_count": 5,
   "id": "665fcac8",
   "metadata": {},
   "outputs": [],
   "source": [
    "import cv2\n",
    "import numpy as np\n",
    "from sewar import full_ref\n",
    "from skimage import metrics"
   ]
  },
  {
   "cell_type": "code",
   "execution_count": 6,
   "id": "846bdd5f",
   "metadata": {},
   "outputs": [],
   "source": [
    "ref_img = cv2.imread('../sample/1.tiff', 1)\n",
    "img = cv2.imread('../sample/1.tiff', 1) # should be noisy"
   ]
  },
  {
   "cell_type": "code",
   "execution_count": 22,
   "id": "3f6847dd",
   "metadata": {},
   "outputs": [
    {
     "name": "stdout",
     "output_type": "stream",
     "text": [
      "MSE: based on scikit-image 0.0\n",
      "PSNR: based on scikit-image inf\n",
      "RMSE: based on scikit-image 0.0\n",
      "SSIM: based on scikit-image 1.0\n"
     ]
    }
   ],
   "source": [
    "mse_skimg = metrics.mean_squared_error(ref_img, img)\n",
    "print(\"MSE: based on scikit-image\", mse_skimg)\n",
    "\n",
    "psnr_skimg = metrics.peak_signal_noise_ratio(ref_img, img, data_range=None)\n",
    "print('PSNR: based on scikit-image', psnr_skimg)\n",
    "\n",
    "rmse_skimg = metrics.normalized_root_mse(ref_img, img)\n",
    "print('RMSE: based on scikit-image', rmse_skimg)\n",
    "\n",
    "from skimage.metrics import structural_similarity as ssim\n",
    "ssim_skimg = ssim(ref_img, \n",
    "                  img, \n",
    "                  data_range=img.max()-img.min(),\n",
    "                  channel_axis = -1)\n",
    "print('SSIM: based on scikit-image', ssim_skimg)"
   ]
  },
  {
   "cell_type": "code",
   "execution_count": 24,
   "id": "107f22a3",
   "metadata": {},
   "outputs": [],
   "source": [
    "# image quality with reference image by eestimating sharpness"
   ]
  },
  {
   "cell_type": "code",
   "execution_count": 25,
   "id": "a9fe3f7a",
   "metadata": {},
   "outputs": [],
   "source": [
    "# https://www.youtube.com/watch?v=33bXKbsP2Gg&list=PLHae9ggVvqPgyRQQOtENr6hK0m1UquGaG&index=50"
   ]
  },
  {
   "cell_type": "code",
   "execution_count": null,
   "id": "b656eaa3",
   "metadata": {},
   "outputs": [],
   "source": []
  }
 ],
 "metadata": {
  "kernelspec": {
   "display_name": "Python 3 (ipykernel)",
   "language": "python",
   "name": "python3"
  },
  "language_info": {
   "codemirror_mode": {
    "name": "ipython",
    "version": 3
   },
   "file_extension": ".py",
   "mimetype": "text/x-python",
   "name": "python",
   "nbconvert_exporter": "python",
   "pygments_lexer": "ipython3",
   "version": "3.8.13"
  }
 },
 "nbformat": 4,
 "nbformat_minor": 5
}
