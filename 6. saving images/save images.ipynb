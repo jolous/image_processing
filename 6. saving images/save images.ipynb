{
 "cells": [
  {
   "cell_type": "code",
   "execution_count": 6,
   "id": "8b261161",
   "metadata": {},
   "outputs": [
    {
     "name": "stderr",
     "output_type": "stream",
     "text": [
      "Lossy conversion from float64 to uint8. Range [0, 1]. Convert image to uint8 prior to saving to suppress this warning.\n"
     ]
    }
   ],
   "source": [
    "from skimage import io, filters, img_as_ubyte\n",
    "img = io.imread('../sample/1.tiff')\n",
    "gaussian_img = filters.gaussian(img, sigma=1)\n",
    "\n",
    "io.imsave(\"saved.jpg\", gaussian_img)"
   ]
  },
  {
   "cell_type": "code",
   "execution_count": 11,
   "id": "f0bbb42a",
   "metadata": {},
   "outputs": [],
   "source": [
    "gaussian_img_8bit = img_as_ubyte(gaussian_img) # must convert float to 8 bit for tiff \n",
    "io.imsave(\"saved.tif\", gaussian_img_8bit)"
   ]
  },
  {
   "cell_type": "code",
   "execution_count": 14,
   "id": "8fd30329",
   "metadata": {},
   "outputs": [
    {
     "data": {
      "text/plain": [
       "True"
      ]
     },
     "execution_count": 14,
     "metadata": {},
     "output_type": "execute_result"
    }
   ],
   "source": [
    "import cv2\n",
    "gaussian_img_8bit_RGB = cv2.cvtColor(gaussian_img_8bit, cv2.COLOR_BGR2RGB)\n",
    "cv2.imwrite(\"cv2saved.jpg\", gaussian_img_8bit_RGB) # conver to 8 bit otherwise it will be black"
   ]
  },
  {
   "cell_type": "code",
   "execution_count": 15,
   "id": "fe082b0e",
   "metadata": {},
   "outputs": [],
   "source": [
    "from matplotlib import pyplot as plt\n",
    "plt.imsave(\"plt_saved.jpg\", gaussian_img)"
   ]
  },
  {
   "cell_type": "code",
   "execution_count": null,
   "id": "2255188b",
   "metadata": {},
   "outputs": [],
   "source": []
  }
 ],
 "metadata": {
  "kernelspec": {
   "display_name": "Python 3 (ipykernel)",
   "language": "python",
   "name": "python3"
  },
  "language_info": {
   "codemirror_mode": {
    "name": "ipython",
    "version": 3
   },
   "file_extension": ".py",
   "mimetype": "text/x-python",
   "name": "python",
   "nbconvert_exporter": "python",
   "pygments_lexer": "ipython3",
   "version": "3.8.13"
  }
 },
 "nbformat": 4,
 "nbformat_minor": 5
}
